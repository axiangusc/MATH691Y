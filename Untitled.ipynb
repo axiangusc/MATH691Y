{
 "cells": [
  {
   "cell_type": "code",
   "execution_count": 1,
   "metadata": {},
   "outputs": [],
   "source": [
    "import numpy as np\n",
    "import matplotlib.pyplot as plt"
   ]
  },
  {
   "cell_type": "code",
   "execution_count": 2,
   "metadata": {},
   "outputs": [
    {
     "name": "stdout",
     "output_type": "stream",
     "text": [
      "Hello, World!\n"
     ]
    }
   ],
   "source": [
    "print(\"Hello, World!\")"
   ]
  },
  {
   "cell_type": "code",
   "execution_count": 150,
   "metadata": {},
   "outputs": [
    {
     "name": "stdout",
     "output_type": "stream",
     "text": [
      "[[0.969   0.      0.2     0.     ]\n",
      " [0.05    0.      0.8     0.     ]\n",
      " [0.      0.8     0.      0.     ]\n",
      " [0.      0.16    0.      0.85935]]\n"
     ]
    }
   ],
   "source": [
    "\n",
    "\n",
    "u = 0.05 #This percentage of cells gets mutated at each step\n",
    "alpha = 0.80 #This percentage of damaged cells becomes mutated, if they survive being damaged\n",
    "beta = 0.2 #This percentage of repairing cells fully recovers into a healthy cell at each step\n",
    "epsilon = 0.80 #This percentage of damaged cells go into repair state\n",
    "a = 0.15 #This percentage of damaged cells dies at each step\n",
    "\n",
    "rs = 1.02 #Stable cell growth rate\n",
    "rm = 1.011 #Mutated cell growth rate\n",
    "\n",
    "variables = np.array([u, alpha, beta, epsilon, a])\n",
    "variablenames = ['Healthy', 'Damaged', 'Repairing', 'Mutated']\n",
    "\n",
    "trans = np.zeros((4, 4))\n",
    "trans[0] = [rs*(1-u), 0, beta, 0] #Healthy\n",
    "trans[1] = [u, 0, (1-beta), 0] #Damaged\n",
    "trans[2] = [0, epsilon, 0, 0] #Repairing\n",
    "trans[3] = [0, (1-epsilon)*alpha, 0, rm*(1-a)] #Mutated\n",
    "\n",
    "print(trans)"
   ]
  },
  {
   "cell_type": "code",
   "execution_count": 167,
   "metadata": {},
   "outputs": [
    {
     "name": "stdout",
     "output_type": "stream",
     "text": [
      "[0. 0. 0. 0.]\n"
     ]
    }
   ],
   "source": [
    "population = np.array([1, 0, 0, 0])\n",
    "hist = np.zeros((2, 4))\n",
    "print(hist[0])"
   ]
  },
  {
   "cell_type": "code",
   "execution_count": 171,
   "metadata": {},
   "outputs": [
    {
     "name": "stdout",
     "output_type": "stream",
     "text": [
      "i is 1\n",
      "[0. 0. 0. 0.]\n",
      "(2, 4)\n",
      "[[0. 0. 0. 0.]]\n",
      "number of iterations: 2\n"
     ]
    }
   ],
   "source": [
    "hist[0] = population\n",
    "hist[1] = np.zeros(4)\n",
    "i = 1\n",
    "\n",
    "def continuerun(arr, prev, threshold):\n",
    "    for i in range(len(arr)):\n",
    "        if(abs(arr[i] - prev[i]) >= threshold):\n",
    "            return True\n",
    "    return False\n",
    "print('i is %d' % i)\n",
    "print(hist[i])\n",
    "while(continuerun(hist[:,i], hist[:,i-1], 1e-5)):\n",
    "    print(hist.shape)\n",
    "    print(np.dot(trans, hist[i]).reshape(1,-1))\n",
    "    np.append(hist, np.dot(trans, hist[i]).reshape(1, -1), axis = 0)\n",
    "    i += 1\n",
    "    #hist[i] /= np.sum(hist[i])\n",
    "    \n",
    "iter = i\n",
    "print('number of iterations: %d' % i)"
   ]
  },
  {
   "cell_type": "code",
   "execution_count": 153,
   "metadata": {},
   "outputs": [
    {
     "data": {
      "image/png": "[encoded data removed]",
      "text/plain": [
       "<Figure size 432x288 with 1 Axes>"
      ]
     },
     "metadata": {
      "needs_background": "light"
     },
     "output_type": "display_data"
    }
   ],
   "source": [
    "for i in range(4):\n",
    "    plt.plot(np.arange(iter), hist[:,i], label = variablenames[i])\n",
    "plt.legend()\n",
    "plt.show()"
   ]
  },
  {
   "cell_type": "code",
   "execution_count": 155,
   "metadata": {},
   "outputs": [
    {
     "name": "stdout",
     "output_type": "stream",
     "text": [
      "[0.76134312 0.1088277  0.08720189 0.11293714]\n"
     ]
    }
   ],
   "source": [
    "print(hist[iter-1])"
   ]
  },
  {
   "cell_type": "code",
   "execution_count": null,
   "metadata": {},
   "outputs": [],
   "source": []
  }
 ],
 "metadata": {
  "kernelspec": {
   "display_name": "Python 3",
   "language": "python",
   "name": "python3"
  },
  "language_info": {
   "codemirror_mode": {
    "name": "ipython",
    "version": 3
   },
   "file_extension": ".py",
   "mimetype": "text/x-python",
   "name": "python",
   "nbconvert_exporter": "python",
   "pygments_lexer": "ipython3",
   "version": "3.7.1"
  }
 },
 "nbformat": 4,
 "nbformat_minor": 2
}
